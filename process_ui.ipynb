{
 "cells": [
  {
   "cell_type": "code",
   "execution_count": 1,
   "metadata": {},
   "outputs": [
    {
     "data": {
      "application/vnd.jupyter.widget-view+json": {
       "model_id": "fa8a3d386a3a4a278dd503424f02e1bc",
       "version_major": 2,
       "version_minor": 0
      },
      "text/plain": [
       "HTML(value='\\n<style>\\n.leaflet-pane {\\n    z-index : 2 !important;\\n}\\n.leaflet-top, .leaflet-bottom {\\n    z…"
      ]
     },
     "metadata": {},
     "output_type": "display_data"
    },
    {
     "data": {
      "application/vnd.jupyter.widget-view+json": {
       "model_id": "8de5b68207454ee08ef9547e8bcc1102",
       "version_major": 2,
       "version_minor": 0
      },
      "text/plain": [
       "ResizeTrigger()"
      ]
     },
     "metadata": {},
     "output_type": "display_data"
    }
   ],
   "source": [
    "from component import io \n",
    "from component import tile"
   ]
  },
  {
   "cell_type": "code",
   "execution_count": 2,
   "metadata": {},
   "outputs": [],
   "source": [
    "###Dummy aoi_io (uncomment for test)\n",
    "#\n",
    "#from sepal_ui import aoi\n",
    "#aoi_io = aoi.Aoi_io(default_asset='users/dannunzio/aoi_cafi') # a default assetId can be directly set in the constructor \n",
    "#aoi_io.get_aoi_ee().getInfo()"
   ]
  },
  {
   "cell_type": "code",
   "execution_count": 3,
   "metadata": {},
   "outputs": [],
   "source": [
    "# define the io of your tile \n",
    "# it should be a mutable object that can be called in your tiles\n",
    "process_io = io.Process()"
   ]
  },
  {
   "cell_type": "code",
   "execution_count": 4,
   "metadata": {},
   "outputs": [],
   "source": [
    "# the result tile needs to be created before the process tile \n",
    "# decide the display order of your tiles in the ui.ipynb notebook\n",
    "fao_visualization = tile.VisualizationTile(aoi_io, process_io)\n",
    "fao_export = tile.ExportTile(aoi_io, process_io)\n"
   ]
  },
  {
   "cell_type": "code",
   "execution_count": 5,
   "metadata": {},
   "outputs": [],
   "source": [
    "# create the process tile \n",
    "fao_process = tile.SelectionTile(aoi_io, process_io, fao_visualization, fao_export)"
   ]
  },
  {
   "cell_type": "code",
   "execution_count": 6,
   "metadata": {},
   "outputs": [
    {
     "data": {
      "application/vnd.jupyter.widget-view+json": {
       "model_id": "0163ded112434160b1892b5a225d8877",
       "version_major": 2,
       "version_minor": 0
      },
      "text/plain": [
       "SelectionTile(align_center=True, children=[Card(children=[Html(children=['Parameter selection'], tag='h2'), Fl…"
      ]
     },
     "metadata": {},
     "output_type": "display_data"
    }
   ],
   "source": [
    "# this tile will only be displayed if this very notebook is launched\n",
    "# useful for debugging\n",
    "fao_process"
   ]
  },
  {
   "cell_type": "code",
   "execution_count": 7,
   "metadata": {},
   "outputs": [
    {
     "data": {
      "application/vnd.jupyter.widget-view+json": {
       "model_id": "aad3a7f5e5d44690bd22e661d48ae4b7",
       "version_major": 2,
       "version_minor": 0
      },
      "text/plain": [
       "VisualizationTile(align_center=True, children=[Card(children=[Html(children=['Visualize results'], tag='h2'), …"
      ]
     },
     "metadata": {},
     "output_type": "display_data"
    }
   ],
   "source": [
    "# this tile will only be displayed if this very notebook is launched\n",
    "# useful for debugging\n",
    "fao_visualization"
   ]
  },
  {
   "cell_type": "code",
   "execution_count": 8,
   "metadata": {},
   "outputs": [
    {
     "data": {
      "application/vnd.jupyter.widget-view+json": {
       "model_id": "a32ac6764d864c4d92ecd100bbdc8674",
       "version_major": 2,
       "version_minor": 0
      },
      "text/plain": [
       "ExportTile(align_center=True, children=[Card(children=[Html(children=['Export data'], tag='h2'), Flex(children…"
      ]
     },
     "metadata": {},
     "output_type": "display_data"
    }
   ],
   "source": [
    "fao_export"
   ]
  },
  {
   "cell_type": "code",
   "execution_count": null,
   "metadata": {},
   "outputs": [],
   "source": [
    "# to debug the io you can display it's magic __dict__ function \n",
    "# this variable will only be displayed if this very notebook is launched\n",
    "# useful for debugging\n",
    "process_io.__dict__"
   ]
  },
  {
   "cell_type": "code",
   "execution_count": null,
   "metadata": {},
   "outputs": [],
   "source": []
  },
  {
   "cell_type": "code",
   "execution_count": null,
   "metadata": {},
   "outputs": [],
   "source": []
  }
 ],
 "metadata": {
  "kernelspec": {
   "display_name": "Python 3",
   "language": "python",
   "name": "python3"
  },
  "language_info": {
   "codemirror_mode": {
    "name": "ipython",
    "version": 3
   },
   "file_extension": ".py",
   "mimetype": "text/x-python",
   "name": "python",
   "nbconvert_exporter": "python",
   "pygments_lexer": "ipython3",
   "version": "3.6.9"
  }
 },
 "nbformat": 4,
 "nbformat_minor": 4
}
